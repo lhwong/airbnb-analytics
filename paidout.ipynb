{
  "nbformat": 4,
  "nbformat_minor": 0,
  "metadata": {
    "colab": {
      "provenance": [],
      "authorship_tag": "ABX9TyPBOfb0D/DdkSE7uWm4BzXP",
      "include_colab_link": true
    },
    "kernelspec": {
      "name": "python3",
      "display_name": "Python 3"
    },
    "language_info": {
      "name": "python"
    }
  },
  "cells": [
    {
      "cell_type": "markdown",
      "metadata": {
        "id": "view-in-github",
        "colab_type": "text"
      },
      "source": [
        "<a href=\"https://colab.research.google.com/github/lhwong/airbnb-analytics/blob/main/paidout.ipynb\" target=\"_parent\"><img src=\"https://colab.research.google.com/assets/colab-badge.svg\" alt=\"Open In Colab\"/></a>"
      ]
    },
    {
      "cell_type": "code",
      "source": [
        "import pandas as pd\n",
        "from google.colab import files\n",
        "import io\n",
        "import matplotlib.pyplot as plt\n",
        "\n",
        "\n",
        "uploaded = files.upload()\n",
        "\n",
        "\n",
        "df2 = pd.read_csv(io.BytesIO(uploaded['airbnb_tax_01_2023-08_2023.csv']), parse_dates=['Date', 'Start Date'])\n",
        "\n",
        "\n",
        "\n",
        "df2.loc[df2[\"Listing\"] == \"Level35 Ceylonz Suites overlooking KLCC, KL Tower\", \"Listing\"] = 'R'\n",
        "df2.loc[df2[\"Listing\"] == \"Level 35 Ceylonz Suites overlooking KLCC, KL Tower\", \"Listing\"] = 'L'\n",
        "\n",
        "result = df2.loc[df2['Type'] == \"Reservation\", 'Amount'].sum()\n",
        "\n",
        "print(\"Total Paid Out Amount: \",result)\n",
        "\n",
        "\n",
        "\n",
        "grouped = df2.loc[(df2['Type'] == \"Reservation\")].groupby('Listing')['Amount'].sum()\n",
        "\n",
        "print(grouped)\n",
        "\n",
        "grouped1 = df2.loc[(df2['Type'] == \"Reservation\")].groupby(['Listing', df2.Date.dt.month])['Amount'].sum()\n",
        "\n",
        "print(grouped1)\n",
        "\n",
        "#df2.set_index(df2.Date.dt.month, inplace=True)\n",
        "\n",
        "#df2.loc[(df2['Type'] == \"Reservation\")].groupby('Listing')['Amount'].plot(legend=True)\n",
        "\n",
        "\n",
        "\n",
        "\n",
        "#grouped2 = df2.loc[(df2['Type'] == \"Reservation\")].groupby([df2.Date.dt.month, 'Listing'])['Amount'].sum()\n",
        "#.unstack().assign(Total=df2.groupby(df2.Date.dt.month).sum()).stack()\n",
        "\n",
        "#print(grouped2)\n",
        "\n",
        "\n",
        "\n",
        "\n",
        "\n",
        "#table = pd.pivot_table(df2, values=['Amount'], index=[df2.Date.dt.month,'Listing'], aggfunc = 'sum')\n",
        "#table\n",
        "\n",
        "pd.pivot_table(grouped2.reset_index(),\n",
        "               index='Date', columns='Listing', values='Amount'\n",
        "              ).plot(legend=True)\n"
      ],
      "metadata": {
        "id": "T5hr6OMvzdNB"
      },
      "execution_count": null,
      "outputs": []
    },
    {
      "cell_type": "code",
      "source": [
        "import pandas as pd\n",
        "from google.colab import files\n",
        "import io\n",
        "import matplotlib.pyplot as plt\n",
        "\n",
        "\n",
        "#uploaded = files.upload()\n",
        "\n",
        "\n",
        "df1 = pd.read_csv('reservations1.csv', parse_dates=['Start date', 'End date', 'Booked'])\n",
        "\n",
        "df2 = pd.read_csv('reservations2.csv', parse_dates=['Start date', 'End date', 'Booked'])\n",
        "\n",
        "df3 = pd.read_csv('reservations3.csv', parse_dates=['Start date', 'End date', 'Booked'])\n",
        "\n",
        "df4 = pd.read_csv('reservations4.csv', parse_dates=['Start date', 'End date', 'Booked'])\n",
        "\n",
        "df5 = pd.read_csv('reservations5.csv', parse_dates=['Start date', 'End date', 'Booked'])\n",
        "\n",
        "df6 = pd.read_csv('reservations6.csv', parse_dates=['Start date', 'End date', 'Booked'])\n",
        "\n",
        "frames  = [df1, df2, df3, df4, df5, df6]\n",
        "df = pd.concat(frames, ignore_index=True)\n",
        "\n",
        "\n",
        "df.loc[df[\"Listing\"] == \"Level35 Ceylonz Suites overlooking KLCC, KL Tower\", \"Listing\"] = 'R'\n",
        "df.loc[df[\"Listing\"] == \"Level 35 Ceylonz Suites overlooking KLCC, KL Tower\", \"Listing\"] = 'L'\n",
        "\n",
        "\n",
        "print(df.head(3))\n",
        "\n",
        "cols = ['Start date', 'End date', '# of nights', 'Earnings']\n",
        "lst = []\n",
        "for ind in range(len(df)):\n",
        "  for (y in range(df['# of nights'][ind])) :\n",
        "    lst.append([df['Start date'][ind], df['End date'][ind], df['# of nights'][ind], df['Earnings'][ind]])\n",
        "\n",
        "data = pd.DataFrame(lst, columns=cols)\n",
        "\n",
        "print(data)\n",
        "#for ind in range(len(df)):\n",
        "#    print(df['Start date'][ind], df['End date'][ind], df['# of nights'][ind])\n"
      ],
      "metadata": {
        "colab": {
          "base_uri": "https://localhost:8080/"
        },
        "id": "ZQ3jJYopVNl7",
        "outputId": "d432cfda-b9d2-4769-cfb0-56740bf433cb"
      },
      "execution_count": 53,
      "outputs": [
        {
          "output_type": "stream",
          "name": "stdout",
          "text": [
            "  Confirmation code      Status                    Guest name Contact  \\\n",
            "0        HMNBYF9B2H  Past guest                    Alyosha 用户     NaN   \n",
            "1        HMA38XX8BD  Past guest                Farhan Razhuan     NaN   \n",
            "2        HMCQMMSQ8F  Past guest  Siti Nur Athirah Ahmad Latfi     NaN   \n",
            "\n",
            "   # of adults  # of children  # of infants Start date   End date  \\\n",
            "0            1              0             0 2023-04-26 2023-04-28   \n",
            "1            2              0             0 2023-04-28 2023-04-30   \n",
            "2            1              0             0 2023-04-29 2023-04-30   \n",
            "\n",
            "   # of nights     Booked Listing  Earnings  \n",
            "0            2 2023-04-25       R  RM210.68  \n",
            "1            2 2023-04-25       R  RM263.35  \n",
            "2            1 2023-04-25       L  RM153.75  \n",
            "    Start date   End date  # of nights  Earnings\n",
            "0   2023-04-26 2023-04-28            2  RM210.68\n",
            "1   2023-04-28 2023-04-30            2  RM263.35\n",
            "2   2023-04-29 2023-04-30            1  RM153.75\n",
            "3   2023-04-30 2023-05-01            1  RM131.68\n",
            "4   2023-04-30 2023-05-01            1  RM151.42\n",
            "..         ...        ...          ...       ...\n",
            "204 2024-01-03 2024-01-06            3  RM491.98\n",
            "205 2024-01-10 2024-01-12            2  RM319.56\n",
            "206 2024-01-14 2024-01-16            2  RM319.57\n",
            "207 2024-01-26 2024-01-31            5    RM0.00\n",
            "208 2024-03-05 2024-03-09            4  RM529.82\n",
            "\n",
            "[209 rows x 4 columns]\n"
          ]
        }
      ]
    }
  ]
}