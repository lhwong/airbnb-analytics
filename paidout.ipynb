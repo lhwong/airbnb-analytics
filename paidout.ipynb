{
  "nbformat": 4,
  "nbformat_minor": 0,
  "metadata": {
    "colab": {
      "provenance": [],
      "authorship_tag": "ABX9TyPKRMvmi9G9TFCFcQn3l3SQ",
      "include_colab_link": true
    },
    "kernelspec": {
      "name": "python3",
      "display_name": "Python 3"
    },
    "language_info": {
      "name": "python"
    }
  },
  "cells": [
    {
      "cell_type": "markdown",
      "metadata": {
        "id": "view-in-github",
        "colab_type": "text"
      },
      "source": [
        "<a href=\"https://colab.research.google.com/github/lhwong/airbnb-analytics/blob/main/paidout.ipynb\" target=\"_parent\"><img src=\"https://colab.research.google.com/assets/colab-badge.svg\" alt=\"Open In Colab\"/></a>"
      ]
    },
    {
      "cell_type": "code",
      "execution_count": null,
      "metadata": {
        "id": "C9kJhPPSTveU"
      },
      "outputs": [],
      "source": [
        "\n",
        "import requests\n",
        "from bs4 import BeautifulSoup\n",
        "\n",
        "# Set the URL of the Airbnb login page\n",
        "url = 'https://www.airbnb.com/signin'\n",
        "\n",
        "# Make a request to the URL and get the response\n",
        "response = requests.get(url)\n",
        "\n",
        "# Create a Beautiful Soup object from the response text\n",
        "soup = BeautifulSoup(response.text, 'lxml')\n",
        "\n",
        "# Find the username and password input fields\n",
        "username_input = soup.find('input', {'id': 'username'})\n",
        "password_input = soup.find('input', {'id': 'password'})\n",
        "\n",
        "# Enter your username and password into the input fields\n",
        "username_input['value'] = 'your_username'\n",
        "password_input['value'] = 'your_password'\n",
        "\n",
        "# Submit the form\n",
        "submit_button = soup.find('button', {'type': 'submit'})\n",
        "submit_button.click()\n",
        "\n",
        "# Once you are logged in, you can scrape data from the Airbnb website.\n",
        "# For example, you could find all of the listings in a particular city and\n",
        "# extract their prices, ratings, and other information."
      ]
    }
  ]
}